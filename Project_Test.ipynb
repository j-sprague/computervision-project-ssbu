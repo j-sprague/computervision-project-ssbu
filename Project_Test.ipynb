{
 "cells": [
  {
   "cell_type": "code",
   "execution_count": null,
   "id": "4d638b1b-b305-4f82-9c5c-ef4405511731",
   "metadata": {
    "tags": []
   },
   "outputs": [],
   "source": [
    "import cv2\n",
    "from ultralytics import YOLO\n",
    "import time"
   ]
  },
  {
   "cell_type": "code",
   "execution_count": null,
   "id": "20b91e88-daef-47fc-be33-90313bf2192a",
   "metadata": {
    "tags": []
   },
   "outputs": [],
   "source": [
    "# Load the YOLOv8 model\n",
    "model = YOLO('best-old.pt')"
   ]
  },
  {
   "cell_type": "code",
   "execution_count": null,
   "metadata": {},
   "outputs": [],
   "source": [
    "def changeChar(result):\n",
    "    print(\"USER CHARACTER HAS CHANGED\")\n",
    "    # detect_id = result.cls.tolist() if result.cls != None else []\n",
    "    # the first id present in \"detect_id\" will be the id of the most confident character"
   ]
  },
  {
   "cell_type": "code",
   "execution_count": null,
   "id": "2d08acbd-128b-4bdd-85d6-0e3608b6cd91",
   "metadata": {
    "tags": []
   },
   "outputs": [],
   "source": [
    "# Open the camera\n",
    "cap = cv2.VideoCapture(1)\n",
    "cap.set(cv2.CAP_PROP_FRAME_WIDTH, 1280)\n",
    "cap.set(cv2.CAP_PROP_FRAME_HEIGHT, 720)\n",
    "\n",
    "# Loop through the video frames\n",
    "while cap.isOpened():\n",
    "    time.sleep(5)\n",
    "    # Read a frame from the video\n",
    "    success, frame = cap.read()\n",
    "\n",
    "    cropped = frame[592:695,253:363]\n",
    "    cropped = cv2.resize(cropped, (250, 250))\n",
    "    if success:\n",
    "        \n",
    "        # Run YOLOv8 tracking on the frame, persisting tracks between frames\n",
    "        results = model.track(cropped, persist=True, conf=0.3, verbose=False)\n",
    "        # Visualize the results on the frame\n",
    "        annotated_frame = results[0].plot()\n",
    "        # Display the annotated frame\n",
    "        cv2.imshow(\"YOLOv8 Tracking\", annotated_frame)\n",
    "\n",
    "        result = results[0].cpu().boxes\n",
    "        # print(result)\n",
    "        if result.cls.tolist() != []:\n",
    "            print(result.cls.tolist())\n",
    "            changeChar(result)\n",
    "\n",
    "        # detect_id = result.cls.tolist() if result.cls != None else []\n",
    "        # detect_id = result.id.tolist() if result.id != None else []\n",
    "        # detect_xyxy = result.xyxy.tolist() if result.xyxy != None else []\n",
    "        # print(\"---------\")\n",
    "        # print(\"[RESULT]:\")\n",
    "        # print(result)\n",
    "        # print(\"[DETECTID]:\")\n",
    "        # print(detect_id)\n",
    "        # print(\"[DETECTXYXY]:\")\n",
    "        # print(detect_xyxy)\n",
    "        # print(\"---------\")\n",
    "\n",
    "        # Break the loop if 'q' is pressed\n",
    "        if cv2.waitKey(1) & 0xFF == ord(\"q\"):\n",
    "            break\n",
    "    else:\n",
    "        # Break the loop if the end of the video is reached\n",
    "        break\n",
    "\n",
    "# Release the video capture object and close the display window\n",
    "cap.release()\n",
    "cv2.destroyAllWindows()"
   ]
  },
  {
   "cell_type": "code",
   "execution_count": null,
   "id": "c900254d-8634-4833-94d0-fbd38959551b",
   "metadata": {},
   "outputs": [],
   "source": []
  }
 ],
 "metadata": {
  "kernelspec": {
   "display_name": "Python 3 (ipykernel)",
   "language": "python",
   "name": "python3"
  },
  "language_info": {
   "codemirror_mode": {
    "name": "ipython",
    "version": 3
   },
   "file_extension": ".py",
   "mimetype": "text/x-python",
   "name": "python",
   "nbconvert_exporter": "python",
   "pygments_lexer": "ipython3",
   "version": "3.10.4"
  }
 },
 "nbformat": 4,
 "nbformat_minor": 5
}
