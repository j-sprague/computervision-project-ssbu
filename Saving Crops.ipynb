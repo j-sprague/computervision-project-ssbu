{
 "cells": [
  {
   "cell_type": "code",
   "execution_count": 26,
   "id": "63f6c0fe-14e6-4383-9148-ca3129266102",
   "metadata": {
    "tags": []
   },
   "outputs": [],
   "source": [
    "from PIL import Image\n",
    "import os"
   ]
  },
  {
   "cell_type": "code",
   "execution_count": 27,
   "id": "40b37878-386a-457f-94f7-0bdd3ea5734a",
   "metadata": {
    "tags": []
   },
   "outputs": [],
   "source": [
    "# Program meant to automatically crop and save character portraits from SSBU 4-player screenshots\n",
    "# Made because I got tired of cropping the images myself\n",
    "\n",
    "def crop(image):\n",
    "    im = Image.open(image)\n",
    "    \n",
    "    # Coordinates where character portraits are on 4-player screenshots\n",
    "    a1 = (152, 865, 339, 1057)\n",
    "    a2 = (562, 865, 749, 1057)\n",
    "    a3 = (972, 865, 1160, 1057)\n",
    "    a4 = (1382, 865, 1564, 1057)\n",
    "    \n",
    "    c1 = im.crop(a1)\n",
    "    c2 = im.crop(a2)\n",
    "    c3 = im.crop(a3)\n",
    "    c4 = im.crop(a4)\n",
    "    \n",
    "    c1.save(image + \"TEST1.png\")\n",
    "    c2.save(image + \"TEST2.png\")\n",
    "    c3.save(image + \"TEST3.png\")\n",
    "    c4.save(image + \"TEST4.png\")"
   ]
  },
  {
   "cell_type": "code",
   "execution_count": 28,
   "id": "bfd4ad32-a132-427d-bb09-02e09bb55ba6",
   "metadata": {
    "tags": []
   },
   "outputs": [],
   "source": [
    "# All of the screenshots are in a folder called \"scrns\"\n",
    "# Running this will save 4 cropped images for each file that's in \"scrns\" folder\n",
    "\n",
    "for file in os.listdir(\"scrns\"):\n",
    "    crop(\"scrns/\" + file)"
   ]
  },
  {
   "cell_type": "code",
   "execution_count": null,
   "id": "952634bd-bd46-4751-bc1b-7addd20f43d6",
   "metadata": {},
   "outputs": [],
   "source": []
  }
 ],
 "metadata": {
  "kernelspec": {
   "display_name": "Python 3 (ipykernel)",
   "language": "python",
   "name": "python3"
  },
  "language_info": {
   "codemirror_mode": {
    "name": "ipython",
    "version": 3
   },
   "file_extension": ".py",
   "mimetype": "text/x-python",
   "name": "python",
   "nbconvert_exporter": "python",
   "pygments_lexer": "ipython3",
   "version": "3.10.13"
  }
 },
 "nbformat": 4,
 "nbformat_minor": 5
}
