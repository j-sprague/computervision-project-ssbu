{
 "cells": [
  {
   "cell_type": "code",
   "execution_count": null,
   "id": "63490bc2-bc15-4e20-a9f1-4921635eb603",
   "metadata": {
    "tags": []
   },
   "outputs": [],
   "source": [
    "# Import the YOLO class from the ultralytics package. Make sure ultralytics is installed (if not installed, type !pip install ultralytics  )\n",
    "from ultralytics import YOLO"
   ]
  },
  {
   "cell_type": "code",
   "execution_count": null,
   "id": "5f216374-7162-45d1-90ec-6350c6935895",
   "metadata": {
    "tags": []
   },
   "outputs": [],
   "source": [
    "# Create an instance of the class YOLO using the pretrained model yolov8m.pt (medium size Yolo for object detection)\n",
    "model = YOLO(\"yolov8m.pt\")"
   ]
  },
  {
   "cell_type": "code",
   "execution_count": null,
   "id": "ac94eef3-7db9-4dc2-8976-50180c7e63c5",
   "metadata": {
    "scrolled": true,
    "tags": []
   },
   "outputs": [],
   "source": [
    "# Pass the yaml file to the `train` method of the model to start the training process. The epoch is set to 100 if you don't specify it.\n",
    "# I chose 10 epochs. During each epoch, a training phase and a validation phase will take place.\n",
    "\n",
    "model.train(data=\"SSBU/data.yaml\", epochs=10)"
   ]
  },
  {
   "cell_type": "code",
   "execution_count": null,
   "id": "784d0a9c-331f-4834-8faa-5f0e6a8d7013",
   "metadata": {
    "tags": []
   },
   "outputs": [],
   "source": [
    "resultsave = inference.predict(\"cats-dogs.jpg\", save=True, save_txt=True) "
   ]
  },
  {
   "cell_type": "code",
   "execution_count": null,
   "id": "c07ad67e-0fb3-493f-bde3-fcb0eeedcdb9",
   "metadata": {
    "tags": []
   },
   "outputs": [],
   "source": [
    "inference = YOLO(\"best.pt\")"
   ]
  },
  {
   "cell_type": "code",
   "execution_count": null,
   "id": "6df30328-1d84-4688-8598-d61f93144668",
   "metadata": {
    "tags": []
   },
   "outputs": [],
   "source": [
    "results = inference.predict(\"3e3c15eddf4203521df50edce0c86006.jpg\", conf=0.01)   #use the image cat_dog.jpg that I uploaded in Canvas under Week 09"
   ]
  },
  {
   "cell_type": "code",
   "execution_count": null,
   "id": "f23d37ed-d87d-44de-9c7b-6bb08252bef4",
   "metadata": {
    "tags": []
   },
   "outputs": [],
   "source": [
    "# Check how many bounding boxes have been estimated (there are only two bounding boxes)\n",
    "result = results[0]\n",
    "print(len(result.boxes))"
   ]
  },
  {
   "cell_type": "code",
   "execution_count": null,
   "id": "00c1fa06-cc7f-4df0-bbee-1175ebc7c480",
   "metadata": {
    "tags": []
   },
   "outputs": [],
   "source": [
    "# Import, from the library Pillow, the class Image to display the image with the bounding boxes\n",
    "from PIL import Image\n",
    "Image.fromarray(result.plot()[:,:, ::-1])"
   ]
  },
  {
   "cell_type": "code",
   "execution_count": null,
   "id": "65d86bf5-1bc7-4c9b-84bf-8728553ca0ee",
   "metadata": {},
   "outputs": [],
   "source": []
  },
  {
   "cell_type": "code",
   "execution_count": null,
   "id": "a60a5cb4-4fd7-46d2-aee8-27b4e85149a1",
   "metadata": {},
   "outputs": [],
   "source": []
  }
 ],
 "metadata": {
  "kernelspec": {
   "display_name": "Python 3 (ipykernel)",
   "language": "python",
   "name": "python3"
  },
  "language_info": {
   "codemirror_mode": {
    "name": "ipython",
    "version": 3
   },
   "file_extension": ".py",
   "mimetype": "text/x-python",
   "name": "python",
   "nbconvert_exporter": "python",
   "pygments_lexer": "ipython3",
   "version": "3.10.13"
  }
 },
 "nbformat": 4,
 "nbformat_minor": 5
}
